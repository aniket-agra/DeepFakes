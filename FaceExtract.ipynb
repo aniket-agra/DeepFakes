{
 "cells": [
  {
   "cell_type": "code",
   "execution_count": 1,
   "metadata": {},
   "outputs": [],
   "source": [
    "import numpy as np\n",
    "import cv2\n",
    "import glob\n",
    "import json\n",
    "#import string"
   ]
  },
  {
   "cell_type": "code",
   "execution_count": 15,
   "metadata": {},
   "outputs": [],
   "source": [
    "ana_dir_ofc = '/data/anaconda3/envs/aniket1/share/opencv4/haarcascades/'\n",
    "ana_dir_mac = '/Users/Aniket/anaconda3/envs/aniket1/share/OpenCV/haarcascades/'\n",
    "basedir_ofc = '/data/Kaggle/DeepFake/'\n",
    "basedir_mac = '/Users/Aniket/KaggleData/DeepFake/'\n",
    "\n",
    "basedir = basedir_ofc\n",
    "ana_dir = ana_dir_ofc\n",
    "#get all video filenames\n",
    "files = glob.glob(basedir+'sample_data/train_sample_videos/*.mp4')\n",
    "\n",
    "\n",
    "cv_path = ana_dir\n",
    "fface_cascade = cv2.CascadeClassifier(cv_path+'haarcascade_frontalface_default.xml')\n",
    "pface_cascade = cv2.CascadeClassifier(cv_path+'haarcascade_profileface.xml')\n",
    "#read json file \n",
    "json_file = basedir+'sample_data/train_sample_videos/metadata.json'\n",
    "\n",
    "with open(json_file, 'r') as f:\n",
    "    json_dict = json.load(f)\n",
    "\n",
    "nvids = len(files)\n",
    "vid_fname = \"\"\n",
    "face_arr = []"
   ]
  },
  {
   "cell_type": "code",
   "execution_count": 16,
   "metadata": {},
   "outputs": [
    {
     "name": "stdout",
     "output_type": "stream",
     "text": [
      "Capturing frames from : /data/Kaggle/DeepFake/sample_data/train_sample_videos/adylbeequz.mp4\n",
      "FAKE\n",
      "frame size = 1920.0, 1080.0, fps = 29.97\n",
      "num frames = 52\n"
     ]
    }
   ],
   "source": [
    "#loop over videos - capture image info as vectors\n",
    "for i in np.arange(12, 13) :     \n",
    "    #start capturing images \n",
    "    print('Capturing frames from : {}'.format(files[i]))\n",
    "    vid_fname = files[i].rsplit('/')[-1]\n",
    "    print(json_dict[vid_fname]['label'])\n",
    "    cap = cv2.VideoCapture(files[i]) #basedir+'sample_data/train_sample_videos/bmehkyanbj.mp4'\n",
    "    print('frame size = {}, {}, fps = {}'.format(cap.get(3), cap.get(4), cap.get(5)))\n",
    "    c = 0\n",
    "    gray0 = None\n",
    "    while(cap.isOpened()):\n",
    "        ret, frame = cap.read()\n",
    "        if frame is not None : \n",
    "            c = c+1\n",
    "            rgb = cv2.cvtColor(frame, cv2.COLOR_BGR2RGB)\n",
    "            gray = cv2.cvtColor(frame, cv2.COLOR_BGR2GRAY)\n",
    "            ffaces = fface_cascade.detectMultiScale(gray, 1.3, 5)\n",
    "            for (x,y,w,h) in ffaces:\n",
    "                xl, xr, yl, yr = [int(0.95*x), int(1.05*(x+w)), int(0.8*y), int(1.1*(y+h))]\n",
    "                gray = cv2.rectangle(gray, (xl, yl), (xr, yr), (255, 0, 0), 2)\n",
    "                face_arr.append(gray[xl:xr, yl:yr])\n",
    "            if c > 1 : \n",
    "                cv2.imshow('frame', gray - gray0 + 255)\n",
    "            else : \n",
    "                cv2.imshow('frame', gray)\n",
    "            gray0 = gray.copy()\n",
    "            if cv2.waitKey(10) & 0xFF == ord('q'):\n",
    "                break\n",
    "        else : \n",
    "            break\n",
    "        \n",
    "    cap.release()\n",
    "    cv2.destroyAllWindows()\n",
    "    cv2.waitKey(1)\n",
    "    #video name to look up label in dict\n",
    "    print('num frames = {}'.format(c))"
   ]
  },
  {
   "cell_type": "code",
   "execution_count": 14,
   "metadata": {},
   "outputs": [
    {
     "name": "stdout",
     "output_type": "stream",
     "text": [
      "adylbeequz.mp4\n",
      "{'label': 'FAKE', 'split': 'train', 'original': 'dlpoieqvfb.mp4'}\n",
      "273\n"
     ]
    }
   ],
   "source": [
    "print(vid_fname)\n",
    "print(json_dict[vid_fname])\n",
    "print(len(face_arr))"
   ]
  },
  {
   "cell_type": "code",
   "execution_count": null,
   "metadata": {},
   "outputs": [],
   "source": []
  }
 ],
 "metadata": {
  "kernelspec": {
   "display_name": "Python 3",
   "language": "python",
   "name": "python3"
  },
  "language_info": {
   "codemirror_mode": {
    "name": "ipython",
    "version": 3
   },
   "file_extension": ".py",
   "mimetype": "text/x-python",
   "name": "python",
   "nbconvert_exporter": "python",
   "pygments_lexer": "ipython3",
   "version": "3.7.6"
  }
 },
 "nbformat": 4,
 "nbformat_minor": 4
}
